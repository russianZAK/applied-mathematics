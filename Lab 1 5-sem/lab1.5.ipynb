{
 "cells": [
  {
   "cell_type": "markdown",
   "metadata": {},
   "source": [
    "Определение: Линейное программирование – математическая дисциплина, посвященная теории и методам решения экстремальных задач на множествах n- мерного пространства, задаваемых системами линейными уравнений и неравенств. Общая задача линейного программирования имеет вид:"
   ]
  },
  {
   "cell_type": "markdown",
   "metadata": {},
   "source": [
    "![](http://habrastorage.org/r/w1560/webt/t2/_r/0i/t2_r0ia0zdnsgafhpquihxldma4.png)"
   ]
  },
  {
   "cell_type": "markdown",
   "metadata": {},
   "source": [
    "Каноническая форма задачи ЛП:"
   ]
  },
  {
   "cell_type": "markdown",
   "metadata": {},
   "source": [
    "![](https://habrastorage.org/r/w1560/webt/al/nw/1q/alnw1qyxxinzazwyx8q3wnym9wk.png)"
   ]
  },
  {
   "cell_type": "markdown",
   "metadata": {},
   "source": [
    "Алгоритм перехода от произвольной задачи ЛП к канонической форме:\n",
    "\n",
    "1. Неравенства с отрицательными $b_i$ умножаем на (-1).\n",
    "2. Если неравенство вида (≤), то к левой части добавляем $s_i$ – добавочную переменную, и получаем равенство.\n",
    "3. Если неравенство вида (≥), то из левой части вычитаем $s_i$, и получаем равенство."
   ]
  },
  {
   "cell_type": "code",
   "execution_count": 40,
   "metadata": {},
   "outputs": [],
   "source": [
    "import json\n",
    "import numpy as np\n",
    "import math\n",
    "\n",
    "# Load data from a specified JSON file\n",
    "def load_json_data(filename):\n",
    "    with open(filename, 'r') as file:\n",
    "        data = json.load(file)\n",
    "    return data\n",
    "\n",
    "# Transform data to canonical form for the simplex algorithm\n",
    "def transform_to_canonical_form(data):\n",
    "    # Extract constraints from data\n",
    "    constraints = data[\"constraints\"]\n",
    "    # Determine the number of original variables\n",
    "    num_original_vars = len(data[\"f\"])\n",
    "    # Determine the number of constraints\n",
    "    num_constraints = len(constraints)\n",
    "    \n",
    "    constraint_matrix = []\n",
    "    right_hand_side_values = []\n",
    "\n",
    "    # Convert ≥ constraints to ≤ by multiplying by -1\n",
    "    for constraint in constraints:\n",
    "        if constraint[\"type\"] == \"gte\":\n",
    "            constraint[\"coefs\"] = [-coef for coef in constraint[\"coefs\"]]\n",
    "            constraint[\"b\"] = -constraint[\"b\"]\n",
    "    \n",
    "    # For inequalities, add slack variables\n",
    "    for idx, constraint in enumerate(constraints):\n",
    "        coefs = constraint[\"coefs\"] + [0] * num_constraints\n",
    "        if constraint[\"type\"] in [\"lte\", \"gte\"]:\n",
    "            coefs[num_original_vars + idx] = 1\n",
    "        constraint_matrix.append(coefs)\n",
    "        right_hand_side_values.append(constraint[\"b\"])\n",
    "\n",
    "    # Remove unnecessary slack variable columns\n",
    "    for idx in reversed(range(num_original_vars, num_original_vars + num_constraints)):\n",
    "        if all(row[idx] == 0 for row in constraint_matrix):\n",
    "            for row in constraint_matrix:\n",
    "                row.pop(idx)\n",
    "                \n",
    "    # If right-hand-side value is negative, multiply its row by -1\n",
    "    for idx, value in enumerate(right_hand_side_values):\n",
    "        if value < 0:\n",
    "            constraint_matrix[idx] = [-coef for coef in constraint_matrix[idx]]\n",
    "            right_hand_side_values[idx] = -value\n",
    "\n",
    "    return constraint_matrix, right_hand_side_values"
   ]
  },
  {
   "cell_type": "markdown",
   "metadata": {},
   "source": [
    "Определение: Точка $Х ∈ D$ называется угловой точкой, если представление$ Х= αХ^1+ (1-α) Х^2,где Х^1,Х^2 ∈D;0< α<1 $ возможно только при $Х^1=Х^2 $."
   ]
  },
  {
   "cell_type": "markdown",
   "metadata": {},
   "source": [
    "Иными словами, невозможно найти две точки в области, интервал проходящий через которые содержит $Х$ (т.е. $Х$ – не внутренняя точка).\n",
    "\n",
    "Графический способ решения задачи ЛП показывает, что нахождение оптимального решения ассоциируется с угловой точкой. Это является основной концепцией при разработке симплекс-метода.\n",
    "\n",
    "Определение: Пусть есть система m уравнений и n неизвестных (m < n). Разделим переменные на два множества: (n-m) переменные положим равными нулю, а остальные m переменных определяются решением системы исходных уравнений. Если это решение единственно, то тогда ненулевые m переменных называют базисными; нулевые (n-m) переменных – свободными (небазисными), а соответствующие результирующие значения переменных называют базисным решением."
   ]
  },
  {
   "cell_type": "markdown",
   "metadata": {},
   "source": [
    "Симплекс-метод позволяет эффективно найти оптимальное решение, избегая простой перебор всех возможных угловых точек. Основной принцип метода: вычисления начинаются с какого-то «стартового» базисного решения, а затем ведется поиск решений, «улучшающих» значение целевой функции. Это возможно только в том случае, если возрастание какой-то переменной приведет к увеличению значения функционала.\n",
    "\n",
    "Необходимые условия для применения симплекс-метода:\n",
    "\n",
    "1. Задача должна иметь каноническую форму.\n",
    "2. У задачи должен быть явно выделенный базис."
   ]
  },
  {
   "cell_type": "markdown",
   "metadata": {},
   "source": [
    "Определение: Явно выделенным базисом будем называть вектора вида:$(..0100..)^T, (..010..)^T,(..0010..)^T...$, т.е. только одна координата вектора ненулевая и равна 1.\n",
    "\n",
    "Замечание: Базисный вектор имеет размерность (m*1), где m – количество уравнений в системе ограничений."
   ]
  },
  {
   "cell_type": "markdown",
   "metadata": {},
   "source": [
    "Для удобства вычислений и наглядности обычно пользуются симплекс-таблицами:"
   ]
  },
  {
   "cell_type": "markdown",
   "metadata": {},
   "source": [
    "![](http://habrastorage.org/r/w1560/webt/nk/pj/jo/nkpjjolxzgspzdiyp1ekj1yxmiq.png)\n",
    "\n",
    "В первой строке указывают «наименование» всех переменных.\n",
    "В первом столбце указывают номера базисных переменных, а в последней ячейке – букву Z (это строка функционала).\n",
    "В «середине таблицы» указывают коэффициенты матрицы ограничений — aij.\n",
    "Последний столбец – вектор правых частей соответствующих уравнений системы ограничений.\n",
    "Крайняя правая ячейка – значение целевой функции. На первой итерации ее полагают равной 0."
   ]
  },
  {
   "cell_type": "markdown",
   "metadata": {},
   "source": [
    "Замечание: Базис – переменные, коэффициенты в матрице ограничений при которых образуют базисные вектора.\n",
    "\n",
    "Замечание: Если ограничения в исходной задаче представлены неравенствами вида ≤, то при приведении задачи к канонической форме, введенные дополнительные переменные образуют начальное базисное решение.\n",
    "\n",
    "Замечание: Коэффициенты в строке функционала берутся со знаком “-”."
   ]
  },
  {
   "cell_type": "code",
   "execution_count": 41,
   "metadata": {},
   "outputs": [],
   "source": [
    "# Set up the initial table for the simplex method\n",
    "def setup_initial_simplex_table(constraint_matrix, right_hand_side_values, objective_coefs, optimization_goal):\n",
    "    num_constraints = len(right_hand_side_values)\n",
    "    num_original_vars = len(objective_coefs)\n",
    "\n",
    "    # Identify basic and non-basic variables\n",
    "    num_slack_vars = len(constraint_matrix[0]) - num_original_vars\n",
    "    basic_vars = list(range(num_original_vars, num_original_vars + num_slack_vars))\n",
    "    nonbasic_vars = list(range(num_original_vars))\n",
    "\n",
    "    # Compute initial solution\n",
    "    starting_solution = [0] * num_original_vars + right_hand_side_values\n",
    "\n",
    "    # Compute initial objective function coefficients\n",
    "    table_objective_coefs = objective_coefs + [0] * num_slack_vars\n",
    "    for i in basic_vars:\n",
    "        for j, coef in enumerate(constraint_matrix[i - num_original_vars]):\n",
    "            if i < num_original_vars:\n",
    "                table_objective_coefs[j] -= coef * objective_coefs[i]\n",
    "\n",
    "    # Minimization adjustment\n",
    "    if optimization_goal == \"min\":\n",
    "        table_objective_coefs = [-coef for coef in table_objective_coefs]\n",
    "\n",
    "    # Compute constraint coefficients\n",
    "    canonical_matrix = []\n",
    "    for row in constraint_matrix:\n",
    "        canonical_matrix.append(row)\n",
    "    return canonical_matrix, right_hand_side_values, table_objective_coefs"
   ]
  },
  {
   "cell_type": "markdown",
   "metadata": {},
   "source": [
    "## Алгоритм симплекс-метода:"
   ]
  },
  {
   "cell_type": "markdown",
   "metadata": {},
   "source": [
    "1. Выбираем переменную, которую будем вводить в базис. Это делается в соответствии с указанным ранее принципом: мы должны выбрать переменную, возрастание которой приведет к росту функционала. Выбор происходит по следующему правилу:\n",
    "\n",
    "Если задача на минимум – выбираем максимальный положительный элемент в последней строке.\n",
    "Если задача на максимум – выбираем минимальный отрицательный.\n",
    "\n",
    "Такой выбор, действительно, соответствует упомянутому выше принципу: если задача на минимум, то чем большее число вычитаем – тем быстрее убывает функционал; для максимума наоборот – чем большее число добавляем, тем быстрее функционал растет.\n",
    "\n",
    "Замечание: Хотя мы и берем минимальное отрицательное число в задаче на максимум, этот коэффициент показывает направление роста функционала, т.к. строка функционала в симплекс-таблице взята со знаком “-”. Аналогичная ситуация с минимизацией.\n",
    "\n",
    "Определение: Столбец симплекс-таблицы, отвечающий выбранному коэффициенту, называется ведущим столбцом."
   ]
  },
  {
   "cell_type": "code",
   "execution_count": 42,
   "metadata": {},
   "outputs": [],
   "source": [
    "# Determine the pivot position for the table\n",
    "def determine_pivot_position(table):\n",
    "    last_row = table[-1]\n",
    "    column_idx = next(idx for idx, val in enumerate(last_row[:-1]) if val > 0)\n",
    "    # Compute the ratios to determine the pivot row\n",
    "    restrictions = [math.inf if eq[column_idx] <= 0 else eq[-1] / eq[column_idx] for eq in table[:-1]]\n",
    "    row_idx = restrictions.index(min(restrictions))\n",
    "    return row_idx, column_idx"
   ]
  },
  {
   "cell_type": "markdown",
   "metadata": {},
   "source": [
    "2. Выбираем переменную, которую будем вводить в базис. Для этого нужно определить, какая из базисных переменных быстрее всего обратится в нуль при росте новой базисной переменной. Алгебраически это делается так:\n",
    "\n",
    "Вектор правых частей почленно делится на ведущий столбец\n",
    "Среди полученных значений выбирают минимальное положительное (отрицательные и нулевые ответы не рассматривают)\n",
    "\n",
    "Определение: Такая строка называется ведущей строкой и отвечает переменной, которую нужно вывести из базиса.\n",
    "\n",
    "Замечание: Фактически, мы выражаем старые базисные переменные из каждого уравнения системы ограничений через остальные переменные и смотрим, в каком уравнении возрастание новой базисной переменной быстрее всего даст 0. Попадание в такую ситуацию означает, что мы «наткнулись» на новую вершину. Именно поэтому нулевые и отрицательные элементы не рассматриваются, т.к. получение такого результата означает, что выбор такой новой базисной переменной будет уводить нас из области, вне которой решений не существует.\n",
    "\n",
    "3. Ищем элемент, стоящий на пересечении ведущих строки и столбца.\n",
    "\n",
    "Определение: Такой элемент называется ведущим элементом.\n",
    "\n",
    "4. Вместо исключаемой переменной в первом столбце (с названиями базисных переменных) записываем название переменной, которую мы вводим в базис.\n",
    "\n",
    "5. Далее начинается процесс вычисления нового базисного решения. Он происходит с помощью метода Жордана-Гаусса.\n",
    "\n",
    "Новая Ведущая строка = Старая ведущая строка / Ведущий элемент\n",
    "Новая строка = Новая строка – Коэффициент строки в ведущем столбце * Новая Ведущая строка\n",
    "\n",
    "Замечание: Преобразование такого вида направлено на введение выбранной переменной в базис, т.е. представление ведущего столбца в виде базисного вектора.\n"
   ]
  },
  {
   "cell_type": "code",
   "execution_count": 43,
   "metadata": {},
   "outputs": [],
   "source": [
    "# Perform the pivoting operation\n",
    "def perform_pivoting(table, pivot_pos):\n",
    "    new_table = [[] for _ in table]\n",
    "    row_idx, col_idx = pivot_pos\n",
    "    pivot_element = table[row_idx][col_idx]\n",
    "    new_table[row_idx] = np.array(table[row_idx]) / pivot_element\n",
    "    for eq_idx, eq in enumerate(table):\n",
    "        if eq_idx != row_idx:\n",
    "            factor = np.array(new_table[row_idx]) * table[eq_idx][col_idx]\n",
    "            new_table[eq_idx] = np.array(table[eq_idx]) - factor\n",
    "    return new_table"
   ]
  },
  {
   "cell_type": "markdown",
   "metadata": {},
   "source": [
    "6. После этого проверяем условие оптимальности. Если полученное решение неоптимально – повторяем весь процесс снова."
   ]
  },
  {
   "cell_type": "markdown",
   "metadata": {},
   "source": [
    "Условие оптимальности полученного решения:\n",
    "\n",
    "Если задача на максимум – в строке функционала нет отрицательных коэффициентов (т.е. при любом изменении переменных значение итогового функционала расти не будет).\n",
    "Если задача на минимум – в строке функционала нет положительных коэффициентов (т.е. при любом изменении переменных значение итогового функционала уменьшаться не будет)."
   ]
  },
  {
   "cell_type": "code",
   "execution_count": 44,
   "metadata": {},
   "outputs": [],
   "source": [
    "# Check if the solution can be improved\n",
    "def solution_can_improve(table):\n",
    "    last_row = table[-1]\n",
    "    return any(val > 0 for val in last_row[:-1])"
   ]
  },
  {
   "cell_type": "markdown",
   "metadata": {},
   "source": [
    "Неограниченность функционала\n",
    "\n",
    "Однако, стоит отметить, что заданный функционал может не и достигать максимума/минимума в заданной области. Алгебраический признак этого можно сформулировать следующим образом:\n",
    "\n",
    "При выборе ведущей строки (исключаемой переменной) результат почленного деления вектора правых частей на ведущий столбец содержит только нулевые и отрицательные значения.\n",
    "\n",
    "Фактически, это значит, что какой бы рост мы не задавали новой базисной переменной, мы никогда не найдем новую вершину. А значит, наша функция не ограничена на множестве допустимых решений."
   ]
  },
  {
   "cell_type": "code",
   "execution_count": 45,
   "metadata": {},
   "outputs": [],
   "source": [
    "# Check if the solution is unbounded\n",
    "def solution_is_unbounded(table):\n",
    "    last_row = table[-1]\n",
    "    column_idx = next((idx for idx, val in enumerate(last_row[:-1]) if val > 0), None)\n",
    "    if column_idx is None:\n",
    "        return False\n",
    "    col_values = [row[column_idx] for row in table[:-1]]\n",
    "    return all(val <= 0 for val in col_values)"
   ]
  },
  {
   "cell_type": "markdown",
   "metadata": {},
   "source": [
    "Альтернативные решения\n",
    "\n",
    "При нахождении оптимального решения возможен еще один вариант – есть альтернативные решения (другая угловая точка, дающая то же самое значение функционала).\n",
    "\n",
    "Алгебраический признак существования альтернативы:\n",
    "\n",
    "После достижения оптимального решения имеются нулевые коэффициенты при свободных переменных в строке функционала.\n",
    "\n",
    "Это значит, что при росте соответствующей переменной с нулевым коэффициентом значение функционала не изменится и новое базисное решение будет также давать оптимум функционала."
   ]
  },
  {
   "cell_type": "code",
   "execution_count": 46,
   "metadata": {},
   "outputs": [],
   "source": [
    "# Check if a column is a basic column\n",
    "def is_basic_column(column):\n",
    "    return sum(column) == 1 and len([val for val in column if val == 0]) == len(column) - 1"
   ]
  },
  {
   "cell_type": "code",
   "execution_count": 47,
   "metadata": {},
   "outputs": [],
   "source": [
    "# Check if there are alternate optimal solutions\n",
    "def has_alternate_solutions(table):\n",
    "    last_row = table[-1]\n",
    "    for idx, val in enumerate(last_row[:-1]):\n",
    "        if val == 0 and not is_basic_column(np.array(table)[:, idx]):\n",
    "            return True\n",
    "    return False"
   ]
  },
  {
   "cell_type": "markdown",
   "metadata": {},
   "source": [
    "# Реализация симплекс метода"
   ]
  },
  {
   "cell_type": "code",
   "execution_count": 48,
   "metadata": {},
   "outputs": [],
   "source": [
    "# Create the initial table\n",
    "def create_table(table_objective_coefs, canonical_matrix, right_hand_side_values):\n",
    "    slack_vars_added = [eq + [x] for eq, x in zip(canonical_matrix, right_hand_side_values)]\n",
    "    z_row = table_objective_coefs + [0]\n",
    "    return slack_vars_added + [z_row]"
   ]
  },
  {
   "cell_type": "code",
   "execution_count": 49,
   "metadata": {},
   "outputs": [],
   "source": [
    "# Run the simplex method algorithm\n",
    "def execute_simplex_method(table_objective_coefs, canonical_matrix, right_hand_side_values):\n",
    "    table = create_table(table_objective_coefs, canonical_matrix, right_hand_side_values)\n",
    "    # Iterate until the solution cannot be improved\n",
    "    while solution_can_improve(table):\n",
    "        if solution_is_unbounded(table):\n",
    "            return \"Unbounded\"\n",
    "        pivot_pos = determine_pivot_position(table)\n",
    "        table = perform_pivoting(table, pivot_pos)\n",
    "    # Extract the optimal solution or return infeasible\n",
    "    return extract_solution(table) if not solution_is_unbounded(table) else \"Infeasible\""
   ]
  },
  {
   "cell_type": "code",
   "execution_count": 50,
   "metadata": {},
   "outputs": [],
   "source": [
    "# Extract the optimal solution from the table\n",
    "def extract_solution(table):\n",
    "    columns_transposed = np.array(table).T\n",
    "    solutions = []\n",
    "    for column in columns_transposed[:-1]:\n",
    "        solution_val = 0\n",
    "        if is_basic_column(column):\n",
    "            idx_of_one = column.tolist().index(1)\n",
    "            solution_val = columns_transposed[-1][idx_of_one]\n",
    "        solutions.append(solution_val)\n",
    "    return solutions"
   ]
  },
  {
   "cell_type": "code",
   "execution_count": 51,
   "metadata": {},
   "outputs": [],
   "source": [
    "# Compute the value of the objective function\n",
    "def compute_objective_value(solution, objective_coefs):\n",
    "    return np.dot(solution, objective_coefs)"
   ]
  },
  {
   "cell_type": "code",
   "execution_count": 52,
   "metadata": {},
   "outputs": [
    {
     "name": "stdout",
     "output_type": "stream",
     "text": [
      "The problem has multiple optimal solutions.\n",
      "Solution:  [0, 2.0, 1.0, 1.0, 0]\n",
      "Value of the objective function:  7.0\n"
     ]
    }
   ],
   "source": [
    "# Load the data and run the simplex method\n",
    "data_content = load_json_data(\"test.json\")\n",
    "constraint_matrix, right_hand_side_values = transform_to_canonical_form(data_content)\n",
    "objective_coefs = data_content[\"f\"]\n",
    "optimization_goal = data_content[\"goal\"]\n",
    "canonical_matrix, right_hand_side_values, table_objective_coefs = setup_initial_simplex_table(constraint_matrix, right_hand_side_values, objective_coefs, optimization_goal)\n",
    "optimal_solution = execute_simplex_method(table_objective_coefs, canonical_matrix, right_hand_side_values)\n",
    "\n",
    "# Print the results\n",
    "if optimal_solution == \"Unbounded\":\n",
    "    print(\"The problem has an unbounded solution.\")\n",
    "elif optimal_solution == \"Infeasible\":\n",
    "    print(\"The problem has no feasible solutions.\")\n",
    "else:\n",
    "    if has_alternate_solutions(create_table(table_objective_coefs, canonical_matrix, right_hand_side_values)):\n",
    "        print('The problem has multiple optimal solutions.')\n",
    "    print('Solution: ', optimal_solution)\n",
    "    value = compute_objective_value(optimal_solution, table_objective_coefs)\n",
    "    print('Value of the objective function: ', value)\n"
   ]
  },
  {
   "cell_type": "markdown",
   "metadata": {},
   "source": [
    "## Пример задачи"
   ]
  },
  {
   "cell_type": "markdown",
   "metadata": {},
   "source": [
    "ЗАДАНИЕ. Компания производит полки для ванных комнат двух размеров – А и В. Агенты по\n",
    "продаже считают, что в неделю на рынке может быть реализовано до 550 полок. Для каждой\n",
    "полки типа А требуется 2 м2\n",
    "материала, а для полки типа В – 3 м2\n",
    "материала. Компания\n",
    "может получить до 1200 м2\n",
    "материала в неделю. Для изготовления одной полки типа А\n",
    "требуется 12 мин машинного времени, а для изготовления одной полки типа В – 30 мин;\n",
    "машину можно использовать 160 час в неделю. Если прибыль от продажи полок типа А\n",
    "составляет 3 денежных единицы, а от полок типа В – 4 ден. ед., то сколько полок каждого\n",
    "типа следует выпускать в неделю?\n",
    "РЕШЕНИЕ. Составим математическую модель задачи. Пусть х1 – количество полок вида А, х2\n",
    "– количество полок вида В, которые производятся в неделю (по смыслу задачи эти\n",
    "переменные неотрицательны). Прибыль от продажи такого количества полок составит 3х1 +\n",
    "4х2, прибыль требуется максимизировать. Выпишем ограничения задачи.\n",
    "х1 + х2 ≤ 550 – в неделю на рынке может быть реализовано до 550 полок.\n",
    "Затраты материала: 2х1 + 3х2 ≤ 1200\n",
    "Затраты машинного времени: 12х1 + 30х2 ≤ 9600. "
   ]
  },
  {
   "cell_type": "markdown",
   "metadata": {},
   "source": [
    "Таким образом, приходим к задаче линейного программирования.\n",
    "f = 3х1 + 4х2 → max,\n",
    "х1 + х2 ≤ 550,\n",
    "2х1 + 3х2 ≤ 1200,\n",
    "12х1 + 30х2 ≤ 9600,\n",
    "x1≥ 0, x2≥0. \n"
   ]
  },
  {
   "cell_type": "code",
   "execution_count": 53,
   "metadata": {},
   "outputs": [
    {
     "name": "stdout",
     "output_type": "stream",
     "text": [
      "Solution:  [450.0, 100.0, 0, 0, 1200.0]\n",
      "Value of the objective function:  1750.0\n"
     ]
    }
   ],
   "source": [
    "# Load the data and run the simplex method\n",
    "data_content = load_json_data(\"test2.json\")\n",
    "constraint_matrix, right_hand_side_values = transform_to_canonical_form(data_content)\n",
    "objective_coefs = data_content[\"f\"]\n",
    "optimization_goal = data_content[\"goal\"]\n",
    "canonical_matrix, right_hand_side_values, table_objective_coefs = setup_initial_simplex_table(constraint_matrix, right_hand_side_values, objective_coefs, optimization_goal)\n",
    "optimal_solution = execute_simplex_method(table_objective_coefs, canonical_matrix, right_hand_side_values)\n",
    "\n",
    "# Print the results\n",
    "if optimal_solution == \"Unbounded\":\n",
    "    print(\"The problem has an unbounded solution.\")\n",
    "elif optimal_solution == \"Infeasible\":\n",
    "    print(\"The problem has no feasible solutions.\")\n",
    "else:\n",
    "    if has_alternate_solutions(create_table(table_objective_coefs, canonical_matrix, right_hand_side_values)):\n",
    "        print('The problem has multiple optimal solutions.')\n",
    "    print('Solution: ', optimal_solution)\n",
    "    value = compute_objective_value(optimal_solution, table_objective_coefs)\n",
    "    print('Value of the objective function: ', value)"
   ]
  },
  {
   "cell_type": "markdown",
   "metadata": {},
   "source": [
    "Целевая функция принимает значение 1750. Таким образом, чтобы получить максимальную прибыль, предприятию необходимо\n",
    "производить 450 полок вида А и 100 полок вида В, при этом прибыль составит 1750 ден. ед.,\n",
    "а останется неиспользованными 1200 минут (20 часов) машинного времени. \n"
   ]
  }
 ],
 "metadata": {
  "kernelspec": {
   "display_name": "Python 3",
   "language": "python",
   "name": "python3"
  },
  "language_info": {
   "codemirror_mode": {
    "name": "ipython",
    "version": 3
   },
   "file_extension": ".py",
   "mimetype": "text/x-python",
   "name": "python",
   "nbconvert_exporter": "python",
   "pygments_lexer": "ipython3",
   "version": "3.11.4"
  },
  "orig_nbformat": 4
 },
 "nbformat": 4,
 "nbformat_minor": 2
}
