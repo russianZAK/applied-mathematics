{
 "cells": [
  {
   "cell_type": "markdown",
   "metadata": {},
   "source": [
    "Теория игр – это теория математических моделей принятия оптимальных решений в условиях конфликта или неопределённости. При этом конфликт не обязательно должен быть антагонистическим, в качестве конфликта можно рассматривать любое разногласие. Всякая теоретико-игровая модель должна отражать, кто и как конфликтует, а также, кто и в какой форме заинтересован в том или ином исходе конфликта. Действующие в конфликте стороны называются игроками, а решения, которые способны принимать игроки, стратегии. \n",
    "Рассмотрим матричные игры. Под матричной игрой понимается такая игра двух игроков, при которой каждый игрок имеет конечное число возможных ходов – чистых стратегий. При этом выигрыш одного игрока и проигрыш другого при применении ими определённых чистых стратегий выражается числом. Задачей теории игр является определение оптимальных стратегий игроков. В матричной игре оптимальной для игрока А называется стратегия, которая при многократном повторении игры обеспечивает максимально возможный средний выигрыш, а для игрока В под оптимальной понимается стратегия, обеспечивающая ему минимальный средний проигрыш. При этом предполагается, что противник является по меньшей мере таким же разумным и делает всё для того, чтобы помешать нам добиться своей цели.\n"
   ]
  },
  {
   "cell_type": "markdown",
   "metadata": {},
   "source": [
    "Импортируем библиотеки:"
   ]
  },
  {
   "cell_type": "code",
   "execution_count": 36,
   "metadata": {},
   "outputs": [],
   "source": [
    "import json\n",
    "import math\n",
    "import typing as tp\n",
    "import numpy as np"
   ]
  },
  {
   "cell_type": "markdown",
   "metadata": {},
   "source": [
    "Реализуем возможность ввода данных из файла в формате JSON, а также преобразуем считанные данные в платежную матрицу:"
   ]
  },
  {
   "cell_type": "code",
   "execution_count": 40,
   "metadata": {},
   "outputs": [],
   "source": [
    "def load_json_data(filename: str) -> tp.Any:\n",
    "    with open(filename, 'r') as file:\n",
    "        data = json.load(file)\n",
    "    return data\n",
    "\n",
    "def transform_data_to_game_matrix(data: tp.Any) -> np.ndarray:\n",
    "    arr = np.array([0] * len(data['matrix'][0]))\n",
    "    for row in data['matrix']:\n",
    "        arr = np.vstack([arr, row])\n",
    "    return np.delete(arr, 0, 0)"
   ]
  },
  {
   "cell_type": "markdown",
   "metadata": {},
   "source": [
    "Если игра m×n не имеет седловой точки, то найти её решение, особенно при больших m и n, трудно. Иногда эту задачу можно упростить, сократив число стратегий, вычёркивая некоторые заведомо невыгодные. \n",
    "Рассмотрим две стратегии первого игрока – i – ю и k – ю. При этом пусть для всех элементов соответствующих строк матрицы выполняются условия: "
   ]
  },
  {
   "attachments": {
    "image.png": {
     "image/png": "[encoded data removed]"
    }
   },
   "cell_type": "markdown",
   "metadata": {},
   "source": [
    "![image.png](attachment:image.png)"
   ]
  },
  {
   "cell_type": "markdown",
   "metadata": {},
   "source": [
    "В этом случае говорят, что i – я стратегия первого игрока доминирует над его j – й стратегией. Если каждое неравенство выполняется как строгое, то говорят, что одна стратегия строго доминирует над другой. В любом случае из двух стратегий первый игрок предпочтет доминирующую, поскольку при использовании доминируемой стратегии его выигрыш по меньшей мере не увеличится.\n",
    "Аналогично рассмотрим две стратегии второго игрока - j - ю и  l – ю, и при этом для элементов соответствующих столбцов матрицы выполняются условия:"
   ]
  },
  {
   "attachments": {
    "image.png": {
     "image/png": "[encoded data removed]"
    }
   },
   "cell_type": "markdown",
   "metadata": {},
   "source": [
    "![image.png](attachment:image.png)"
   ]
  },
  {
   "cell_type": "markdown",
   "metadata": {},
   "source": [
    "Для второго игрока, как известно, более выгодной является стратегия, дающая меньший проигрыш, поэтому говорят, что j - я стратегия доминирует над l - й. Если попарные неравенства являются строгими, то говорят, что одна стратегия строго доминирует над другой.\n",
    "В результате при наличии доминирующих стратегий часть стратегий можно не рассматривать, что приведет в ряде случаев к значительному упрощению платежной матрицы.\n",
    "Упростим платежную матрицу путем анализа доминирующих стратегий."
   ]
  },
  {
   "cell_type": "code",
   "execution_count": 41,
   "metadata": {},
   "outputs": [],
   "source": [
    "def find_strategies_to_delete_for_player_a(game_matrix: np.ndarray) -> set[int]:\n",
    "    strategies_to_delete: set[int] = set()\n",
    "    for i in range(game_matrix.shape[0]):\n",
    "        if i not in strategies_to_delete:\n",
    "            row = game_matrix[i]\n",
    "            for j in range(game_matrix.shape[0]):\n",
    "                if i != j and all(row >= game_matrix[j]):\n",
    "                    strategies_to_delete.add(j)\n",
    "    return strategies_to_delete\n",
    "\n",
    "def find_strategies_to_delete_for_player_b(game_matrix: np.ndarray) -> set[int]:\n",
    "    strategies_to_delete: set[int] = set()\n",
    "    for i in range(game_matrix.shape[1]):\n",
    "        if i not in strategies_to_delete:\n",
    "            column = game_matrix[:, i]\n",
    "            for j in range(game_matrix.shape[1]):\n",
    "                if i != j and all(column <= game_matrix[:, j]):\n",
    "                    strategies_to_delete.add(j)\n",
    "    return strategies_to_delete\n",
    "\n",
    "def simplify_matrix(game_matrix: np.ndarray) -> np.ndarray:\n",
    "    strategies_to_delete = list(find_strategies_to_delete_for_player_a(game_matrix))\n",
    "    simplified_matrix = game_matrix\n",
    "    simplified_matrix = np.delete(simplified_matrix, strategies_to_delete, 0)\n",
    "    strategies_to_delete = list(find_strategies_to_delete_for_player_b(simplified_matrix))\n",
    "    simplified_matrix = np.delete(simplified_matrix, strategies_to_delete, 1)\n",
    "    return simplified_matrix"
   ]
  },
  {
   "cell_type": "markdown",
   "metadata": {},
   "source": [
    "Далее разберемся как находить нижнюю и верхнюю границы игры.\n",
    "Рассмотрим матричную игру m×n с платежной матрицей:"
   ]
  },
  {
   "attachments": {
    "image.png": {
     "image/png": "[encoded data removed]"
    }
   },
   "cell_type": "markdown",
   "metadata": {},
   "source": [
    "![image.png](attachment:image.png)"
   ]
  },
  {
   "cell_type": "markdown",
   "metadata": {},
   "source": [
    "Пусть игрок А выбирает некоторую стратегию $А_i$, тогда в наихудшем случае он получит выигрыш равный min $a_{ij}$. Предвидя эту возможность, игрок А должен выбрать такую стратегию, чтобы максимизировать свой минимальный в каждой стратегии выигрыш α. Таким образом, α = max min $a_{ij}$. Величина α называется нижней ценой игры.\n",
    "Очевидно, α находится в одной из строк матрицы Н, пусть в $i_0$, тогда стратегия $A_{i_0}$ называется максиминной.\n",
    "Итак, если игрок А будет придерживаться максиминной стратегии, то ему при любом поведении игрока В гарантируется выигрыш, во всяком случае не меньше α.\n",
    "С другой стороны, противник – игрок В, заинтересован в том, чтобы обратить выигрыш игрока А в минимум, поэтому он должен пересмотреть каждую свою стратегию с точки зрения максимального выигрыша игроком А при этой стратегии. Другими словами, при выборе некоторой стратегии $B_j$ он должен исходить из максимального проигрыша в этой стратегии, равного max $a_{ij}$, и найти такую стратегию, при которой этот проигрыш будет наименьшим, то есть не более чем β = max min $a_{ij}$.\n",
    "Величина β называется верхней ценой игры, а соответствующая ему стратегия $B_{i_0}$ – минимаксной.\n"
   ]
  },
  {
   "cell_type": "markdown",
   "metadata": {},
   "source": [
    "Игра с седловой точкой является наиболее простым случаем матричной игры. Игрой с седловой точкой называется игра, у которой совпадают нижняя и верхняя цены игры, то есть выполняется равенство:"
   ]
  },
  {
   "attachments": {
    "image.png": {
     "image/png": "[encoded data removed]"
    }
   },
   "cell_type": "markdown",
   "metadata": {},
   "source": [
    "![image.png](attachment:image.png)"
   ]
  },
  {
   "cell_type": "markdown",
   "metadata": {},
   "source": [
    "При этом V = α = β называется ценой игры, элемент $a_{i_0j_0}$ соответствующий равенству, называют седловой точкой.\n",
    "Простота решения игры с седловой точкой заключается в том, что оптимальные стратегии обоих игроков находятся сразу. Для игрока А это стратегия $A_{i_0}$ для игрока В – $B_{i_0}$. Причём, такое решение обладает свойством устойчивости в том смысле, что если один из игроков применяет свою оптимальную стратегию, то любое отклонение другого игрока от оптимальной стратегии может оказаться не выгодным для него.\n"
   ]
  },
  {
   "cell_type": "markdown",
   "metadata": {},
   "source": [
    "Попробуем определить нижнюю и верхнюю границы игры:"
   ]
  },
  {
   "cell_type": "code",
   "execution_count": 42,
   "metadata": {},
   "outputs": [],
   "source": [
    "def find_lower_game_price(game_matrix: np.ndarray) -> tuple[int, int]:\n",
    "    min_row_elements: list[int] = []\n",
    "    for i in range(game_matrix.shape[0]):\n",
    "        row = game_matrix[i]\n",
    "        min_row_elements.append(min(row))\n",
    "    max_min = max(min_row_elements)\n",
    "    index = min_row_elements.index(max_min)\n",
    "    return max_min, index\n",
    "\n",
    "def find_upper_game_price(game_matrix: np.ndarray) -> tuple[int, int]:\n",
    "    max_column_elements: list[int] = []\n",
    "    for i in range(game_matrix.shape[1]):\n",
    "        row = game_matrix[:, i]\n",
    "        max_column_elements.append(max(row))\n",
    "    min_max = min(max_column_elements)\n",
    "    index = max_column_elements.index(min_max)\n",
    "    return min_max, index"
   ]
  },
  {
   "cell_type": "markdown",
   "metadata": {},
   "source": [
    "Среди конечных игр, имеющих практическое значение, сравнительно редко встречаются игры с седловой точкой. Более типичным является случай, когда нижняя и верхние цены не совпадают, причем α < β.\n",
    "Установленный факт означает, что если игра одноходовая, то есть партнёры играют один раз, выбирая по одной чистой стратегии, то в расчёте на разумно играющего противника они должны придерживаться принципа минимакса, это гарантирует выигрыш V ≥ α игроку А и проигрыш V ≤ β игроку В. Следовательно, при применении минимаксных стратегий величина платежа V ограничена неравенством"
   ]
  },
  {
   "attachments": {
    "image.png": {
     "image/png": "[encoded data removed]"
    }
   },
   "cell_type": "markdown",
   "metadata": {},
   "source": [
    "![image.png](attachment:image.png)"
   ]
  },
  {
   "cell_type": "markdown",
   "metadata": {},
   "source": [
    "Если же игра повторяется не однократно, то постоянное применение минимаксных стратегий становится не разумным. Например, если игрок В будет уверен в том, что на следующем ходу А применит прежнюю стратегию, то он несомненно выберет стратегию, отвечающую наименьшему в это строке, а не прежнюю.\n",
    "Таким образом, мы пришли к выводу, что при неоднократном повторении игры обоим игрокам следует менять свои стратегии. Тогда возникает вопрос: а каким образом их менять, чтобы в среднем выигрыш одного и проигрыш другого был аналогично одноходовой игре, ограничиваясь снизу и сверху соответственно?"
   ]
  },
  {
   "cell_type": "markdown",
   "metadata": {},
   "source": [
    "Для ответа на этот вопрос введём вероятность (относительную частоту) $x_i$ применение игроком А i-й стратегии, и $y_i$ – вероятность применения j-й стратегии игроком В. Совокупности этих вероятностей определяют векторы:"
   ]
  },
  {
   "attachments": {
    "image-2.png": {
     "image/png": "[encoded data removed]"
    },
    "image.png": {
     "image/png": "[encoded data removed]"
    }
   },
   "cell_type": "markdown",
   "metadata": {},
   "source": [
    "![image.png](attachment:image.png)\n",
    "![image-2.png](attachment:image-2.png)"
   ]
  },
  {
   "cell_type": "markdown",
   "metadata": {},
   "source": [
    "Эти векторы или наборы вероятностей выбора чистых стратегий называются смешанными стратегиями игроков. Для получения ограничений на средний выигрыш или проигрыш рассмотрим математическое ожидание выигрыша первого игрока:"
   ]
  },
  {
   "attachments": {
    "image.png": {
     "image/png": "[encoded data removed]"
    }
   },
   "cell_type": "markdown",
   "metadata": {},
   "source": [
    "![image.png](attachment:image.png)"
   ]
  },
  {
   "cell_type": "markdown",
   "metadata": {},
   "source": [
    "Если  второй игрок В выбрал некоторую смешанную стратегию $Y'$, то первому игроку, естественно, считать лучшей ту смешанную стратегию $\\overline{X}$, при которой достигается max $M(X;Y')$:"
   ]
  },
  {
   "attachments": {
    "image.png": {
     "image/png": "[encoded data removed]"
    }
   },
   "cell_type": "markdown",
   "metadata": {},
   "source": [
    "![image.png](attachment:image.png)"
   ]
  },
  {
   "cell_type": "markdown",
   "metadata": {},
   "source": [
    "Аналогично, при выборе первым игроком некоторой стратегии $X'$ второму игроку следует выбирать стратегию $\\overline{Y}$ такую, что:"
   ]
  },
  {
   "attachments": {
    "image.png": {
     "image/png": "[encoded data removed]"
    }
   },
   "cell_type": "markdown",
   "metadata": {},
   "source": [
    "![image.png](attachment:image.png)"
   ]
  },
  {
   "cell_type": "markdown",
   "metadata": {},
   "source": [
    "Ясно, что $X'$ зависит от $Y'$ и $\\overline{Y}$ зависит от $X'$. Перед каждым игроком, таким образом, возникает задача выбора оптимальной стратегии, под которой для игрока А понимается смешанная стратегия $X^*$, которая максимизирует математическое ожидание его выигрыша, для игрока В – стратегия $Y^*$, минимизирующая математическое ожидание его проигрыша. Средняя величина выигрыша (математическое ожидание выигрыша) является функцией от смешанных стратегий и называется платежной функцией игры:"
   ]
  },
  {
   "attachments": {
    "image.png": {
     "image/png": "[encoded data removed]"
    }
   },
   "cell_type": "markdown",
   "metadata": {},
   "source": [
    "![image.png](attachment:image.png)"
   ]
  },
  {
   "cell_type": "markdown",
   "metadata": {},
   "source": [
    "Чтобы определить смешанные стратегии и соответствующую цену игры с помощью симплекс-метода, необходимо составить двойственную задачу линейного программирования и решить её:"
   ]
  },
  {
   "attachments": {
    "image.png": {
     "image/png": "[encoded data removed]"
    }
   },
   "cell_type": "markdown",
   "metadata": {},
   "source": [
    "![image.png](attachment:image.png)"
   ]
  },
  {
   "cell_type": "markdown",
   "metadata": {},
   "source": [
    "Прменим симплекс-метод из прошлой лабораторной работы:"
   ]
  },
  {
   "cell_type": "code",
   "execution_count": 43,
   "metadata": {},
   "outputs": [],
   "source": [
    "def get_simplex_method_data(game_matrix: np.ndarray, goal: str, type: str) -> dict[str, tp.Any]:\n",
    "    simplex_method_data: dict[str, tp.Any]= {}\n",
    "    simplex_method_data[\"f\"] = [1]*game_matrix.shape[1]\n",
    "    simplex_method_data[\"goal\"] = goal\n",
    "    constraints: list[dict[str, tp.Any]] = []\n",
    "    if goal == \"min\" and type == \"gte\":\n",
    "        game_matrix = game_matrix.transpose()\n",
    "    for i in range(game_matrix.shape[0]):\n",
    "        constraint: dict[str, tp.Any] = {}\n",
    "        coefs: list[int] = []\n",
    "        for j in range(game_matrix.shape[1]):\n",
    "            coefs.append(game_matrix[i][j])\n",
    "        constraint[\"coefs\"] = coefs\n",
    "        constraint[\"type\"] = type\n",
    "        constraint[\"b\"] = 1\n",
    "        constraints.append(constraint)\n",
    "    simplex_method_data[\"constraints\"] = constraints\n",
    "    return simplex_method_data\n",
    "\n",
    "def transform_to_canonical_form(data):\n",
    "    constraints = data[\"constraints\"]\n",
    "    num_original_vars = len(data[\"f\"])\n",
    "    num_constraints = len(constraints)\n",
    "    \n",
    "    constraint_matrix = []\n",
    "    right_hand_side_values = []\n",
    "\n",
    "    for constraint in constraints:\n",
    "        if constraint[\"type\"] == \"gte\":\n",
    "            constraint[\"coefs\"] = [-coef for coef in constraint[\"coefs\"]]\n",
    "            constraint[\"b\"] = -constraint[\"b\"]\n",
    "    \n",
    "    for idx, constraint in enumerate(constraints):\n",
    "        coefs = constraint[\"coefs\"] + [0] * num_constraints\n",
    "        if constraint[\"type\"] in [\"lte\", \"gte\"]:\n",
    "            coefs[num_original_vars + idx] = 1\n",
    "        constraint_matrix.append(coefs)\n",
    "        right_hand_side_values.append(constraint[\"b\"])\n",
    "\n",
    "    for idx in reversed(range(num_original_vars, num_original_vars + num_constraints)):\n",
    "        if all(row[idx] == 0 for row in constraint_matrix):\n",
    "            for row in constraint_matrix:\n",
    "                row.pop(idx)\n",
    "                \n",
    "    for idx, value in enumerate(right_hand_side_values):\n",
    "        if value < 0:\n",
    "            constraint_matrix[idx] = [-coef for coef in constraint_matrix[idx]]\n",
    "            right_hand_side_values[idx] = -value\n",
    "\n",
    "    return constraint_matrix, right_hand_side_values\n",
    "\n",
    "def setup_initial_simplex_table(constraint_matrix, right_hand_side_values, objective_coefs, optimization_goal):\n",
    "    num_constraints = len(right_hand_side_values)\n",
    "    num_original_vars = len(objective_coefs)\n",
    "\n",
    "    num_slack_vars = len(constraint_matrix[0]) - num_original_vars\n",
    "    basic_vars = list(range(num_original_vars, num_original_vars + num_slack_vars))\n",
    "    nonbasic_vars = list(range(num_original_vars))\n",
    "\n",
    "    starting_solution = [0] * num_original_vars + right_hand_side_values\n",
    "\n",
    "    table_objective_coefs = objective_coefs + [0] * num_slack_vars\n",
    "    for i in basic_vars:\n",
    "        for j, coef in enumerate(constraint_matrix[i - num_original_vars]):\n",
    "            if i < num_original_vars:\n",
    "                table_objective_coefs[j] -= coef * objective_coefs[i]\n",
    "\n",
    "    if optimization_goal == \"min\":\n",
    "        table_objective_coefs = [-coef for coef in table_objective_coefs]\n",
    "\n",
    "    canonical_matrix = []\n",
    "    for row in constraint_matrix:\n",
    "        canonical_matrix.append(row)\n",
    "    return canonical_matrix, right_hand_side_values, table_objective_coefs\n",
    "\n",
    "def determine_pivot_position(table):\n",
    "    last_row = table[-1]\n",
    "    column_idx = next(idx for idx, val in enumerate(last_row[:-1]) if val > 0)\n",
    "    restrictions = [math.inf if eq[column_idx] <= 0 else eq[-1] / eq[column_idx] for eq in table[:-1]]\n",
    "    row_idx = restrictions.index(min(restrictions))\n",
    "    return row_idx, column_idx\n",
    "\n",
    "def perform_pivoting(table, pivot_pos):\n",
    "    new_table = [[] for _ in table]\n",
    "    row_idx, col_idx = pivot_pos\n",
    "    pivot_element = table[row_idx][col_idx]\n",
    "    new_table[row_idx] = np.array(table[row_idx]) / pivot_element\n",
    "    for eq_idx, eq in enumerate(table):\n",
    "        if eq_idx != row_idx:\n",
    "            factor = np.array(new_table[row_idx]) * table[eq_idx][col_idx]\n",
    "            new_table[eq_idx] = np.array(table[eq_idx]) - factor\n",
    "    return new_table\n",
    "\n",
    "def solution_can_improve(table):\n",
    "    last_row = table[-1]\n",
    "    return any(val > 0 for val in last_row[:-1])\n",
    "\n",
    "def solution_is_unbounded(table):\n",
    "    last_row = table[-1]\n",
    "    column_idx = next((idx for idx, val in enumerate(last_row[:-1]) if val > 0), None)\n",
    "    if column_idx is None:\n",
    "        return False\n",
    "    col_values = [row[column_idx] for row in table[:-1]]\n",
    "    return all(val <= 0 for val in col_values)\n",
    "\n",
    "def is_basic_column(column):\n",
    "    return sum(column) == 1 and len([val for val in column if val == 0]) == len(column) - 1\n",
    "\n",
    "def has_alternate_solutions(table):\n",
    "    last_row = table[-1]\n",
    "    for idx, val in enumerate(last_row[:-1]):\n",
    "        if val == 0 and not is_basic_column(np.array(table)[:, idx]):\n",
    "            return True\n",
    "    return False\n",
    "\n",
    "def create_table(table_objective_coefs, canonical_matrix, right_hand_side_values):\n",
    "    slack_vars_added = [eq + [x] for eq, x in zip(canonical_matrix, right_hand_side_values)]\n",
    "    z_row = table_objective_coefs + [0]\n",
    "    return slack_vars_added + [z_row]\n",
    "\n",
    "def execute_simplex_method(table_objective_coefs, canonical_matrix, right_hand_side_values):\n",
    "    table = create_table(table_objective_coefs, canonical_matrix, right_hand_side_values)\n",
    "    while solution_can_improve(table):\n",
    "        if solution_is_unbounded(table):\n",
    "            return \"Unbounded\"\n",
    "        pivot_pos = determine_pivot_position(table)\n",
    "        table = perform_pivoting(table, pivot_pos)\n",
    "    return extract_solution(table) if not solution_is_unbounded(table) else \"Infeasible\"\n",
    "\n",
    "def extract_solution(table):\n",
    "    columns_transposed = np.array(table).T\n",
    "    solutions = []\n",
    "    for column in columns_transposed[:-1]:\n",
    "        solution_val = 0\n",
    "        if is_basic_column(column):\n",
    "            idx_of_one = column.tolist().index(1)\n",
    "            solution_val = columns_transposed[-1][idx_of_one]\n",
    "        solutions.append(solution_val)\n",
    "    return solutions\n",
    "\n",
    "def compute_objective_value(solution, objective_coefs):\n",
    "    return np.dot(solution, objective_coefs)\n",
    "\n",
    "def check_if_matrix_contains_only_negative_values(game_matrix: np.ndarray) -> bool:\n",
    "    is_negative = True\n",
    "    for i in range(game_matrix.shape[0]):\n",
    "        for j in range(game_matrix.shape[1]):\n",
    "            if game_matrix[i][j] > 0:\n",
    "                is_negative = False\n",
    "    return is_negative\n",
    "\n",
    "def convert_negative_matrix_to_positive(game_matrix: np.ndarray) -> tuple[np.ndarray, int]:\n",
    "    min_element = 0\n",
    "    for i in range(game_matrix.shape[0]):\n",
    "        for j in range(game_matrix.shape[1]):\n",
    "            if game_matrix[i][j] < min_element:\n",
    "                min_element = game_matrix[i][j]\n",
    "    max_element = -min_element\n",
    "    max_element += 1\n",
    "    for i in range(game_matrix.shape[0]):\n",
    "        for j in range(game_matrix.shape[1]):\n",
    "            game_matrix[i][j] += max_element\n",
    "    return game_matrix, max_element"
   ]
  },
  {
   "cell_type": "markdown",
   "metadata": {},
   "source": [
    "Протестируем код на матрице игры с седловой точкой и без неё:"
   ]
  },
  {
   "cell_type": "code",
   "execution_count": 44,
   "metadata": {},
   "outputs": [
    {
     "name": "stdout",
     "output_type": "stream",
     "text": [
      "Simplified matrix is:\n",
      "-2 -2 0 \n",
      "-2 0 -1 \n",
      "0 -1 -1 \n",
      "Value of game is: -0.8571428571428572\n",
      "Mixed strategies: [0.1428571428571428, 0.2857142857142857, 0.5714285714285715]\n"
     ]
    }
   ],
   "source": [
    "data = load_json_data('test_1.json')\n",
    "matrix = transform_data_to_game_matrix(data)\n",
    "simplified_matrix = simplify_matrix(matrix)\n",
    "print(\"Simplified matrix is:\")\n",
    "for i in range(simplified_matrix.shape[0]):\n",
    "    for j in range(simplified_matrix.shape[1]):\n",
    "        print(simplified_matrix[i][j], end=\" \")\n",
    "    print()\n",
    "if check_if_matrix_contains_only_negative_values(simplified_matrix):\n",
    "    simplified_matrix, max_element = convert_negative_matrix_to_positive(simplified_matrix)\n",
    "else:\n",
    "    max_element = None\n",
    "simplex_method_data = get_simplex_method_data(simplified_matrix, \"max\", \"lte\")\n",
    "\n",
    "constraint_matrix, right_hand_side_values = transform_to_canonical_form(simplex_method_data)\n",
    "objective_coefs = simplex_method_data[\"f\"]\n",
    "optimization_goal = simplex_method_data[\"goal\"]\n",
    "canonical_matrix, right_hand_side_values, table_objective_coefs = setup_initial_simplex_table(constraint_matrix, right_hand_side_values, objective_coefs, optimization_goal)\n",
    "strategy = execute_simplex_method(table_objective_coefs, canonical_matrix, right_hand_side_values)\n",
    "value_of_game = 1 / compute_objective_value(strategy, table_objective_coefs)\n",
    "strategy = [element * value_of_game for element in strategy]\n",
    "if max_element is not None:\n",
    "    value_of_game -= max_element\n",
    "print(f\"Value of game is: {value_of_game}\")\n",
    "print(f\"Mixed strategies: {strategy[0:len(objective_coefs)]}\")"
   ]
  },
  {
   "cell_type": "code",
   "execution_count": 39,
   "metadata": {},
   "outputs": [
    {
     "name": "stdout",
     "output_type": "stream",
     "text": [
      "Simplified matrix is:\n",
      "-5 1 \n",
      "5 4 \n",
      "Value of game is: 4\n",
      "Optimal strategies are: 2 for player A, 2 for player B\n"
     ]
    }
   ],
   "source": [
    "data = load_json_data('test_2.json')\n",
    "matrix = transform_data_to_game_matrix(data)\n",
    "simplified_matrix = simplify_matrix(matrix)\n",
    "print(\"Simplified matrix is:\")\n",
    "for i in range(simplified_matrix.shape[0]):\n",
    "    for j in range(simplified_matrix.shape[1]):\n",
    "        print(simplified_matrix[i][j], end=\" \")\n",
    "    print()\n",
    "max_min, index = find_lower_game_price(simplified_matrix)\n",
    "min_max, _index = find_upper_game_price(simplified_matrix)\n",
    "if min_max == max_min:\n",
    "    print(f\"Value of game is: {max_min}\")\n",
    "    print(f\"Optimal strategies are: {index + 1} for player A, {_index + 1} for player B\")"
   ]
  }
 ],
 "metadata": {
  "kernelspec": {
   "display_name": "Python 3",
   "language": "python",
   "name": "python3"
  },
  "language_info": {
   "codemirror_mode": {
    "name": "ipython",
    "version": 3
   },
   "file_extension": ".py",
   "mimetype": "text/x-python",
   "name": "python",
   "nbconvert_exporter": "python",
   "pygments_lexer": "ipython3",
   "version": "3.11.5"
  }
 },
 "nbformat": 4,
 "nbformat_minor": 2
}
